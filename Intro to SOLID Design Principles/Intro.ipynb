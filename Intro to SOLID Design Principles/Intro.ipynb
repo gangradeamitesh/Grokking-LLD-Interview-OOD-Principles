{
 "cells": [
  {
   "cell_type": "markdown",
   "metadata": {},
   "source": [
    "## **Introduction**\n",
    "\n",
    "When creating software, we can follow good practices to avoid issues to make our code easier to understand, robust, and maintainable. Few of these practices are often termed as principles, e.g., the SOLID principles refer to the best practices to be followed in OOD.\n",
    "\n",
    "SOLID is an acronym for the first five object-oriented design (OOD) principles by Robert C. Martin, also known as Uncle Bob, the author of Clean Code: A Handbook of Agile Software Craftsmanship."
   ]
  },
  {
   "cell_type": "markdown",
   "metadata": {},
   "source": [
    "### Why use SOLID principles?\n",
    "Let’s look at the possible issues below that may occur in the code if we don’t adhere to the SOLID principles.\n",
    "\n",
    "- The code may become tightly coupled with several components, which makes it difficult to integrate new features or bug fixes and sometimes leads to unidentified problems.\n",
    "- The code will be untestable, which effectively means that every change will need end-to-end testing.\n",
    "- The code may have a lot of duplication.\n",
    "- Fixing one issue results in additional errors.\n",
    "\n",
    "However, if we adhere to the SOLID principles, we are able to do the following:\n",
    "\n",
    "- Reduce the tight coupling of the code, which reduces errors.\n",
    "- Reduce the code’s complexity for future use.\n",
    "- Produce more extensible, maintainable, and understandable software code.\n",
    "- Produce the code that is modular, feature specific, and is extremely testable."
   ]
  },
  {
   "cell_type": "markdown",
   "metadata": {},
   "source": [
    "### Design principles\n",
    "Let’s look at the definition of the five design principles.\n",
    "\n",
    "- In the **Single Responsibility Principle (SRP)**, each class should be responsible for a single part or functionality of the system.\n",
    "- In the **Open Closed principle (OCP)**, software components should be open for extension but closed for modification.\n",
    "- In the **Liskov Substitution Principle (LSP)**, objects of a superclass should be replaceable with objects of its subclasses without breaking the system.\n",
    "- The **Interface Segregation Principle (ISP)** makes fine-grained interfaces that are client specific.\n",
    "- The **Dependency Inversion Principle (DIP)**, ensures that the high-level modules are not dependent on low-level modules. In other words, one should depend upon abstraction and not concretion.\n"
   ]
  },
  {
   "cell_type": "markdown",
   "metadata": {},
   "source": []
  },
  {
   "cell_type": "markdown",
   "metadata": {},
   "source": [
    "##### **Open Closed Principle(OCP)**\n",
    "\n",
    "- A Software artifact should be open for extension but closed for modification.\n",
    "\n",
    "This means that a system should improve easily by adding new code instead of changing the code core. This way, the core code always retains its unique identity, making it reusable.\n",
    "\n"
   ]
  },
  {
   "cell_type": "markdown",
   "metadata": {},
   "source": [
    "##### OCP Implementation"
   ]
  },
  {
   "cell_type": "code",
   "execution_count": 6,
   "metadata": {},
   "outputs": [
    {
     "name": "stdout",
     "output_type": "stream",
     "text": [
      "Total Volume: 39.7\n"
     ]
    }
   ],
   "source": [
    "##Implementation without Usingg OCP\n",
    "\n",
    "class VolumeCalculator:\n",
    "    def volume(self, shape):\n",
    "        if shape['type'] == \"Cuboid\":\n",
    "            return shape['length'] * shape['width'] * shape['height']\n",
    "        elif shape['type'] == \"Cone\":\n",
    "            return (1/3) * 3.14 * shape['radius']**2 * shape['height']\n",
    "        elif shape['type'] == \"Cylinder\":\n",
    "            return 3.14 * shape['radius']**2 * shape['height']\n",
    "        \n",
    "    def sumVolume(self , shape):\n",
    "        total_volume = 0\n",
    "        for shape in shapes:\n",
    "            total_volume += self.volume(shape)\n",
    "        return total_volume\n",
    "\n",
    "shapes = [\n",
    "    {'type': 'Cuboid', 'length': 2, 'width': 3, 'height': 4},\n",
    "    {'type': 'Cone', 'radius': 1, 'height': 3},\n",
    "    {'type': 'Cylinder', 'radius': 1, 'height': 4}\n",
    "]\n",
    "\n",
    "calculator = VolumeCalculator()\n",
    "print(f\"Total Volume: {calculator.sumVolume(shapes)}\")"
   ]
  },
  {
   "cell_type": "code",
   "execution_count": 7,
   "metadata": {},
   "outputs": [
    {
     "name": "stdout",
     "output_type": "stream",
     "text": [
      "Total Volume: 39.7\n"
     ]
    }
   ],
   "source": [
    "##Implementation using OCP\n",
    "from abc import ABC , abstractmethod\n",
    "\n",
    "\n",
    "class Shape(ABC):\n",
    "    @abstractmethod\n",
    "    def volume(self):\n",
    "        pass\n",
    "\n",
    "class Cuboid(Shape):\n",
    "    def __init__(self , length , width , height) -> None:\n",
    "        self.length = length\n",
    "        self.width = width\n",
    "        self.heigth = height\n",
    "    \n",
    "    def volume(self):\n",
    "        return self.length * self.heigth * self.width\n",
    "\n",
    "class Cone(Shape):\n",
    "    def __init__(self, radius , height) -> None:\n",
    "        self.radius = radius\n",
    "        self.height = height\n",
    "    def volume(self):\n",
    "        return (1/3) * 3.14 * self.radius**2 * self.height\n",
    "    \n",
    "class Cylinder(Shape):\n",
    "    def __init__(self, radius , height) -> None:\n",
    "        self.radius = radius\n",
    "        self.height = height\n",
    "    def volume(self):\n",
    "        return 3.14 * self.radius**2 * self.height\n",
    "    \n",
    "class VolumeCalculator:\n",
    "    def sumVolume(self , shapes):\n",
    "        total_vol = 0 \n",
    "        for shape in shapes:\n",
    "            total_vol += shape.volume()\n",
    "        return total_vol\n",
    "\n",
    "shapes = [\n",
    "    Cuboid(2, 3, 4),\n",
    "    Cone(1, 3),\n",
    "    Cylinder(1, 4)\n",
    "]\n",
    "\n",
    "calculator = VolumeCalculator()\n",
    "print(f\"Total Volume: {calculator.sumVolume(shapes)}\")"
   ]
  },
  {
   "cell_type": "markdown",
   "metadata": {},
   "source": [
    "##### Conclusion \n",
    "\n",
    "- A software system should be easy to extend without the need for modification in the existing system. For the software systems, this goal is achieved by OCP.\n",
    "- The system must be divided into small components, which are arranged, so that core code is always protected from new code.\n"
   ]
  },
  {
   "cell_type": "code",
   "execution_count": null,
   "metadata": {},
   "outputs": [],
   "source": []
  }
 ],
 "metadata": {
  "kernelspec": {
   "display_name": "Python 3",
   "language": "python",
   "name": "python3"
  },
  "language_info": {
   "codemirror_mode": {
    "name": "ipython",
    "version": 3
   },
   "file_extension": ".py",
   "mimetype": "text/x-python",
   "name": "python",
   "nbconvert_exporter": "python",
   "pygments_lexer": "ipython3",
   "version": "3.11.3"
  }
 },
 "nbformat": 4,
 "nbformat_minor": 2
}
