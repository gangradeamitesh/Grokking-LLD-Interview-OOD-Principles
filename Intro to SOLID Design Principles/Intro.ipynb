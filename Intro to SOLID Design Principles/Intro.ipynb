{
 "cells": [
  {
   "cell_type": "markdown",
   "metadata": {},
   "source": [
    "## **Introduction**\n",
    "\n",
    "When creating software, we can follow good practices to avoid issues to make our code easier to understand, robust, and maintainable. Few of these practices are often termed as principles, e.g., the SOLID principles refer to the best practices to be followed in OOD.\n",
    "\n",
    "SOLID is an acronym for the first five object-oriented design (OOD) principles by Robert C. Martin, also known as Uncle Bob, the author of Clean Code: A Handbook of Agile Software Craftsmanship."
   ]
  },
  {
   "cell_type": "markdown",
   "metadata": {},
   "source": [
    "### Why use SOLID principles?\n",
    "Let’s look at the possible issues below that may occur in the code if we don’t adhere to the SOLID principles.\n",
    "\n",
    "- The code may become tightly coupled with several components, which makes it difficult to integrate new features or bug fixes and sometimes leads to unidentified problems.\n",
    "- The code will be untestable, which effectively means that every change will need end-to-end testing.\n",
    "- The code may have a lot of duplication.\n",
    "- Fixing one issue results in additional errors.\n",
    "\n",
    "However, if we adhere to the SOLID principles, we are able to do the following:\n",
    "\n",
    "- Reduce the tight coupling of the code, which reduces errors.\n",
    "- Reduce the code’s complexity for future use.\n",
    "- Produce more extensible, maintainable, and understandable software code.\n",
    "- Produce the code that is modular, feature specific, and is extremely testable."
   ]
  },
  {
   "cell_type": "markdown",
   "metadata": {},
   "source": [
    "### Design principles\n",
    "Let’s look at the definition of the five design principles.\n",
    "\n",
    "- In the **Single Responsibility Principle (SRP)**, each class should be responsible for a single part or functionality of the system.\n",
    "- In the **Open Closed principle (OCP)**, software components should be open for extension but closed for modification.\n",
    "- In the **Liskov Substitution Principle (LSP)**, objects of a superclass should be replaceable with objects of its subclasses without breaking the system.\n",
    "- The **Interface Segregation Principle (ISP)** makes fine-grained interfaces that are client specific.\n",
    "- The **Dependency Inversion Principle (DIP)**, ensures that the high-level modules are not dependent on low-level modules. In other words, one should depend upon abstraction and not concretion.\n"
   ]
  },
  {
   "cell_type": "markdown",
   "metadata": {},
   "source": [
    "##### **Single Responsibility Principle (SRP)**\n",
    "\n",
    "**Implementation**"
   ]
  },
  {
   "cell_type": "markdown",
   "metadata": {},
   "source": []
  },
  {
   "cell_type": "code",
   "execution_count": 5,
   "metadata": {},
   "outputs": [
    {
     "name": "stdout",
     "output_type": "stream",
     "text": [
      "Book : A\n",
      "Author : Author\n",
      "Quantity : 5\n",
      "Discount : 100\n",
      "Total : $895\n",
      "None\n"
     ]
    }
   ],
   "source": [
    "#intial design without SRP\n",
    "\n",
    "class Book:\n",
    "    def __init__(self, title , author , price) -> None:\n",
    "        self.title = title\n",
    "        self.author = author\n",
    "        self.price = price\n",
    "\n",
    "class Invoice:\n",
    "    def __init__(self , book , quantity , discount) -> None:\n",
    "        self.book = book\n",
    "        self.quantity = quantity\n",
    "        self.discount = discount\n",
    "\n",
    "    def calculate_total(self):\n",
    "        return (self.quantity * self.book.price) - self.discount\n",
    "    def print_invoice(self):\n",
    "        total = self.calculate_total()\n",
    "        print(f\"Book : {self.book.title}\")\n",
    "        print(f\"Author : {self.book.author}\")\n",
    "        print(f\"Quantity : {self.quantity}\")\n",
    "        print(f\"Discount : {self.discount}\")\n",
    "        print(f\"Total : ${total}\")\n",
    "    \n",
    "    def save_to_db(self):\n",
    "        print(f\"save to database for {self.book.title}\")\n",
    "\n",
    "book = Book(\"A\" , \"Author\" , 199)\n",
    "invoice = Invoice(book , 5 , 100)\n",
    "print(invoice.print_invoice())\n"
   ]
  },
  {
   "cell_type": "code",
   "execution_count": 1,
   "metadata": {},
   "outputs": [
    {
     "data": {
      "text/plain": [
       "'Saved the invoice to the database'"
      ]
     },
     "execution_count": 1,
     "metadata": {},
     "output_type": "execute_result"
    }
   ],
   "source": [
    "#Design with SRP \n",
    "\n",
    "class Book:\n",
    "    def __init__(self, title , author , price) -> None:\n",
    "        self.title = title\n",
    "        self.author = author\n",
    "        self.price = price\n",
    "\n",
    "class Invoice:\n",
    "    def __init__(self , book , quantity , discount) -> None:\n",
    "        self.book = book\n",
    "        self.quantity = quantity\n",
    "        self.discount = discount\n",
    "        \n",
    "\n",
    "class InvoicePrinter:\n",
    "    def __init__(self , invoice) -> None:\n",
    "        self.invoice = invoice\n",
    "    \n",
    "    def print_invoice(self):\n",
    "        total = self.calculate_total()\n",
    "        print(f\"Book : {self.book.title}\")\n",
    "        print(f\"Author : {self.book.author}\")\n",
    "        print(f\"Quantity : {self.quantity}\")\n",
    "        print(f\"Discount : {self.discount}\")\n",
    "        print(f\"Total : ${total}\")\n",
    "class InvoiceStorage:\n",
    "    def __init__(self, invoice) -> None:\n",
    "        self.invoice = invoice\n",
    "    \n",
    "    def save_to_database(self):\n",
    "        return f\"Saved the invoice to the database\"\n",
    "    \n",
    "book = Book(\"The Pragmatic Progrommar\" , \"Andy Hund and Dave Thomas\" , 30.00)\n",
    "invoice = Invoice(book , 3 , 5.00)\n",
    "invoice_printer = InvoicePrinter(invoice)\n",
    "invoice_storage = InvoiceStorage(invoice)\n",
    "invoice_storage.save_to_database()"
   ]
  },
  {
   "cell_type": "markdown",
   "metadata": {},
   "source": [
    "#### Voilation \n",
    "**Without SRP**\n",
    "- Invoice class is aboit invoices , but we have added print and storage functionality inside it. This break SRP rule, \"A class should have only one reason to change\".\n",
    "- If we want to change logic of storage or print we will have to change the functionlity of the class.\n",
    "\n",
    "- **In case of SRP design each class performs its own functionlity**\n",
    "\n",
    "\n",
    "When a class performs one task, it contains a small number of methods and member variables that are self-explanatory. SRP achieves this goal, and due to this, our classes are more usable, and they provide easier maintenance."
   ]
  },
  {
   "cell_type": "markdown",
   "metadata": {},
   "source": []
  }
 ],
 "metadata": {
  "kernelspec": {
   "display_name": "Python 3",
   "language": "python",
   "name": "python3"
  },
  "language_info": {
   "codemirror_mode": {
    "name": "ipython",
    "version": 3
   },
   "file_extension": ".py",
   "mimetype": "text/x-python",
   "name": "python",
   "nbconvert_exporter": "python",
   "pygments_lexer": "ipython3",
   "version": "3.11.3"
  }
 },
 "nbformat": 4,
 "nbformat_minor": 2
}
