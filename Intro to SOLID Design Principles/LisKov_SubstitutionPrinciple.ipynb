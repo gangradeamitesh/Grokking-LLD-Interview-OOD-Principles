{
 "cells": [
  {
   "cell_type": "code",
   "execution_count": null,
   "metadata": {},
   "outputs": [],
   "source": []
  },
  {
   "cell_type": "code",
   "execution_count": 4,
   "metadata": {},
   "outputs": [
    {
     "name": "stdout",
     "output_type": "stream",
     "text": [
      "Car`s engine started\n",
      "Car is driving\n",
      "Bicycle is driving\n"
     ]
    }
   ],
   "source": [
    "class Vehicle:\n",
    "    def __init__(self , name , speed) -> None:\n",
    "        self.name = name\n",
    "        self.speed = speed\n",
    "    \n",
    "    def startEngine(self):\n",
    "        raise NotImplementedError(\"this method should be overridden\")\n",
    "    def drive(self):\n",
    "        print(f\"{self.name} is driving\")\n",
    "\n",
    "class Car(Vehicle):\n",
    "    def startEngine(self):\n",
    "        print(f\"{self.name}`s engine started\")\n",
    "\n",
    "class Bicycle(Vehicle):\n",
    "    def startEngine(self):\n",
    "        #Inherites startEngine method from vehicle , which is not appropriate.\n",
    "        return Exception(\"Bicycles does not have engine!\")\n",
    "\n",
    "vehicles = [\n",
    "    Car(\"Car\" , 1),\n",
    "    Bicycle(\"Bicycle\",  2)\n",
    "]\n",
    "for vehicle in vehicles:\n",
    "    vehicle.startEngine()\n",
    "    vehicle.drive()"
   ]
  },
  {
   "cell_type": "code",
   "execution_count": null,
   "metadata": {},
   "outputs": [],
   "source": [
    "class Vehicle:\n",
    "    def __init__(self , name , speed) -> None:\n",
    "        self.name = name\n",
    "        self.speed = speed\n",
    "\n",
    "class Motorized(Vehicle):\n",
    "    def startEngine(self):\n",
    "        return NotImplementedError(\"This method should be overridden\")\n",
    "\n",
    "class Manual(Vehicle):\n",
    "    def startMoving(self):\n",
    "        return NotImplementedError(\"This method should be overridden\")\n",
    "\n",
    "class Car(Motorized):\n",
    "    def startEngine(self):\n",
    "        "
   ]
  }
 ],
 "metadata": {
  "kernelspec": {
   "display_name": "Python 3",
   "language": "python",
   "name": "python3"
  },
  "language_info": {
   "codemirror_mode": {
    "name": "ipython",
    "version": 3
   },
   "file_extension": ".py",
   "mimetype": "text/x-python",
   "name": "python",
   "nbconvert_exporter": "python",
   "pygments_lexer": "ipython3",
   "version": "3.11.3"
  }
 },
 "nbformat": 4,
 "nbformat_minor": 2
}
