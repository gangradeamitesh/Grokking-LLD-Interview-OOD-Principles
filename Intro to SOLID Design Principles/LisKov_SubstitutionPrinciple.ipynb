{
 "cells": [
  {
   "cell_type": "markdown",
   "metadata": {},
   "source": [
    "### Liskov Substitution Principle\n",
    "\n",
    "The Liskov Substitution Principle (LSP) is one of the fundamental design principles of object-oriented design. The LSP helps guide the use of inheritance in design so that the application does not break. It states that the objects of a subclass should behave the same way as the objects of the superclass, such that they are replaceable. This rule generally applies to abstraction concepts like inheritance and polymorphism."
   ]
  },
  {
   "cell_type": "code",
   "execution_count": 7,
   "metadata": {},
   "outputs": [
    {
     "name": "stdout",
     "output_type": "stream",
     "text": [
      "Car`s engine started\n",
      "Car is driving\n",
      "Bicycle is driving\n"
     ]
    }
   ],
   "source": [
    "class Vehicle:\n",
    "    def __init__(self , name , speed) -> None:\n",
    "        self.name = name\n",
    "        self.speed = speed\n",
    "    \n",
    "    def startEngine(self):\n",
    "        raise NotImplementedError(\"this method should be overridden\")\n",
    "    def drive(self):\n",
    "        print(f\"{self.name} is driving\")\n",
    "\n",
    "class Car(Vehicle):\n",
    "    def startEngine(self):\n",
    "        print(f\"{self.name}`s engine started\")\n",
    "\n",
    "class Bicycle(Vehicle):\n",
    "    def startEngine(self):\n",
    "        #Inherites startEngine method from vehicle , which is not appropriate.\n",
    "        return Exception(\"Bicycles does not have engine!\")\n",
    "\n",
    "vehicles = [\n",
    "    Car(\"Car\" , 1),\n",
    "    Bicycle(\"Bicycle\",  2)\n",
    "]\n",
    "for vehicle in vehicles:\n",
    "    vehicle.startEngine()\n",
    "    vehicle.drive()"
   ]
  },
  {
   "cell_type": "code",
   "execution_count": 8,
   "metadata": {},
   "outputs": [
    {
     "name": "stdout",
     "output_type": "stream",
     "text": [
      "Car`s engine started\n",
      "Bycycle started moving\n"
     ]
    }
   ],
   "source": [
    "class Vehicle:\n",
    "    def __init__(self , name , speed) -> None:\n",
    "        self.name = name\n",
    "        self.speed = speed\n",
    "\n",
    "class Motorized(Vehicle):\n",
    "    def startEngine(self):\n",
    "        return NotImplementedError(\"This method should be overridden\")\n",
    "\n",
    "class Manual(Vehicle):\n",
    "    def startMoving(self):\n",
    "        return NotImplementedError(\"This method should be overridden\")\n",
    "\n",
    "class Car(Motorized):\n",
    "    def startEngine(self):\n",
    "        print(f\"{self.name}`s engine started\")\n",
    "\n",
    "class Bicycle(Manual):\n",
    "    def startMoving(self):\n",
    "        print(f\"{self.name} started moving\")\n",
    "\n",
    "vehicles = [\n",
    "    Car(\"Car\" , 50),\n",
    "    Bicycle(\"Bycycle\" , 2)\n",
    "]\n",
    "for vehicle in vehicles:\n",
    "    if isinstance(vehicle , Motorized):\n",
    "        vehicle.startEngine()\n",
    "    elif isinstance(vehicle , Manual):\n",
    "        vehicle.startMoving()\n"
   ]
  },
  {
   "cell_type": "markdown",
   "metadata": {},
   "source": [
    "The LSP is an important principle that should be extended to the level of system architecture. A small violation of the substitutability of classes can cause the system to break down, which is why we should always be on the lookout for violations. A few benefits of the LSP are provided below:\n",
    "\n",
    "It avoids the generalization of concepts that may not be needed in the future.\n",
    "It makes the code maintainable and easier to upgrade."
   ]
  },
  {
   "cell_type": "code",
   "execution_count": null,
   "metadata": {},
   "outputs": [],
   "source": []
  }
 ],
 "metadata": {
  "kernelspec": {
   "display_name": "Python 3",
   "language": "python",
   "name": "python3"
  },
  "language_info": {
   "codemirror_mode": {
    "name": "ipython",
    "version": 3
   },
   "file_extension": ".py",
   "mimetype": "text/x-python",
   "name": "python",
   "nbconvert_exporter": "python",
   "pygments_lexer": "ipython3",
   "version": "3.11.3"
  }
 },
 "nbformat": 4,
 "nbformat_minor": 2
}
