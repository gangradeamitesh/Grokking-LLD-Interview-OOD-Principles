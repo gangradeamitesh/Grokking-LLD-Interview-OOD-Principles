{
 "cells": [
  {
   "cell_type": "markdown",
   "metadata": {},
   "source": [
    "#### Introduction\n",
    "The Interface Segregation Principle (ISP) is a design principle that does not recommend having methods that an interface would not use and require. Therefore, it goes against having fat interfaces in classes and prefers having small interfaces with a group of methods, each serving a particular purpose.\n",
    "\n",
    "The goal behind implementing the ISP is to have a precise code design that follows the correct abstraction guidelines and tends to be more flexible, which would help in making it more robust and reusable. This becomes key when more and more features are added to the software, making it bloated and harder to maintain."
   ]
  },
  {
   "cell_type": "code",
   "execution_count": 1,
   "metadata": {},
   "outputs": [
    {
     "name": "stdout",
     "output_type": "stream",
     "text": [
      "Area: 16\n",
      "Square does not have a volumn\n",
      "Area: 20\n",
      "Volume: Reactangle does not have a volumn\n",
      "Area: 54\n",
      "Volume: 27\n"
     ]
    }
   ],
   "source": [
    "from abc import ABC , abstractmethod\n",
    "\n",
    "class Shape(ABC):\n",
    "    @abstractmethod\n",
    "    def area(self):\n",
    "        pass\n",
    "\n",
    "    @abstractmethod\n",
    "    def volume(self):\n",
    "        pass\n",
    "\n",
    "class Square(Shape):\n",
    "    def __init__(self , side) -> None:\n",
    "        self.side = side\n",
    "    \n",
    "    def area(self):\n",
    "        return self.side * self.side\n",
    "    \n",
    "    def volume(self):\n",
    "        raise NotImplementedError(\"Square does not have a volumn\")\n",
    "    \n",
    "class Rectangle(Shape):\n",
    "    def __init__(self , length , breadth) -> None:\n",
    "        self.length = length\n",
    "        self.breadth = breadth\n",
    "\n",
    "    def area(self):\n",
    "        return self.length * self.breadth\n",
    "    \n",
    "    def volume(self):\n",
    "        return NotImplementedError(\"Reactangle does not have a volumn\")\n",
    "    \n",
    "class Cube(Shape):\n",
    "    def __init__(self , side) -> None:\n",
    "        self.side = side\n",
    "\n",
    "    def area(self):\n",
    "        return 6 * self.side * self.side\n",
    "    def volume(self):\n",
    "        return self.side ** 3\n",
    "    \n",
    "shapes = [\n",
    "    Square(4),\n",
    "    Rectangle(4, 5),\n",
    "    Cube(3)\n",
    "]\n",
    "\n",
    "for shape in shapes:\n",
    "    print(f\"Area: {shape.area()}\")\n",
    "    try:\n",
    "        print(f\"Volume: {shape.volume()}\")\n",
    "    except NotImplementedError as e:\n",
    "        print(e)"
   ]
  },
  {
   "cell_type": "code",
   "execution_count": 3,
   "metadata": {},
   "outputs": [
    {
     "name": "stdout",
     "output_type": "stream",
     "text": [
      "Square with side : 4\n",
      "Area: 16\n",
      "Rectangle of sides : 4 , 5\n",
      "Area: 20\n",
      "Cube of side 3\n",
      "Volume: 27\n"
     ]
    }
   ],
   "source": [
    "from abc import ABC , abstractmethod\n",
    "\n",
    "class Shape(ABC):\n",
    "    @abstractmethod\n",
    "    def display(self):\n",
    "        pass\n",
    "\n",
    "class TwoDemShape(Shape):\n",
    "    @abstractmethod\n",
    "    def area(self):\n",
    "        pass\n",
    "class ThreeDemShape(Shape):\n",
    "    @abstractmethod\n",
    "    def volume(self):\n",
    "        pass\n",
    "\n",
    "class Square(TwoDemShape):\n",
    "    def __init__(self , side) -> None:\n",
    "        self.side = side\n",
    "\n",
    "    def display(self):\n",
    "        print(f\"Square with side : {self.side}\")\n",
    "    \n",
    "    def area(self):\n",
    "        return self.side * self.side\n",
    "\n",
    "class Rectangle(TwoDemShape):\n",
    "    def __init__(self , length , width) -> None:\n",
    "        self.length = length\n",
    "        self.width = width\n",
    "    def display(self):\n",
    "        print(f\"Rectangle of sides : {self.length} , {self.width}\")\n",
    "\n",
    "    def  area(self):\n",
    "        return self.length * self.width\n",
    "    \n",
    "class Cube(ThreeDemShape):\n",
    "    def __init__(self , side) -> None:\n",
    "        self.side = side\n",
    "\n",
    "    def display(self):\n",
    "        print(f\"Cube of side {self.side}\")\n",
    "    def volume(self):\n",
    "        return self.side ** 3\n",
    "\n",
    "\n",
    "square = Square(4)\n",
    "rectangle = Rectangle(4, 5)\n",
    "cube = Cube(3)\n",
    "\n",
    "square.display()\n",
    "print(f\"Area: {square.area()}\")\n",
    "\n",
    "rectangle.display()\n",
    "print(f\"Area: {rectangle.area()}\")\n",
    "\n",
    "cube.display()\n",
    "print(f\"Volume: {cube.volume()}\")"
   ]
  },
  {
   "cell_type": "markdown",
   "metadata": {},
   "source": [
    "The ISP, being an important principle, is the most violated principle in object-oriented programming. This can easily be achieved by adding more features to our software, requiring us to update large parts of our program. A few benefits of the ISP are as follows:\n",
    "\n",
    "- It helps to keep our software maintainable and robust.\n",
    "- It allows for efficient refactoring and redeployment of code."
   ]
  },
  {
   "cell_type": "code",
   "execution_count": null,
   "metadata": {},
   "outputs": [],
   "source": []
  }
 ],
 "metadata": {
  "kernelspec": {
   "display_name": "Python 3",
   "language": "python",
   "name": "python3"
  },
  "language_info": {
   "codemirror_mode": {
    "name": "ipython",
    "version": 3
   },
   "file_extension": ".py",
   "mimetype": "text/x-python",
   "name": "python",
   "nbconvert_exporter": "python",
   "pygments_lexer": "ipython3",
   "version": "3.11.3"
  }
 },
 "nbformat": 4,
 "nbformat_minor": 2
}
