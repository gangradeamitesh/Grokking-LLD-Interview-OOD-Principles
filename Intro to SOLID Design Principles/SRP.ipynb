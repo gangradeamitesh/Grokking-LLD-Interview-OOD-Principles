{
 "cells": [
  {
   "cell_type": "markdown",
   "metadata": {},
   "source": [
    "##### **Single Responsibility Principle (SRP)**\n",
    "\n",
    "**Implementation**"
   ]
  },
  {
   "cell_type": "code",
   "execution_count": 1,
   "metadata": {},
   "outputs": [
    {
     "name": "stdout",
     "output_type": "stream",
     "text": [
      "Book : A\n",
      "Author : Author\n",
      "Quantity : 5\n",
      "Discount : 100\n",
      "Total : $895\n",
      "None\n"
     ]
    }
   ],
   "source": [
    "#intial design without SRP\n",
    "\n",
    "class Book:\n",
    "    def __init__(self, title , author , price) -> None:\n",
    "        self.title = title\n",
    "        self.author = author\n",
    "        self.price = price\n",
    "\n",
    "class Invoice:\n",
    "    def __init__(self , book , quantity , discount) -> None:\n",
    "        self.book = book\n",
    "        self.quantity = quantity\n",
    "        self.discount = discount\n",
    "\n",
    "    def calculate_total(self):\n",
    "        return (self.quantity * self.book.price) - self.discount\n",
    "    def print_invoice(self):\n",
    "        total = self.calculate_total()\n",
    "        print(f\"Book : {self.book.title}\")\n",
    "        print(f\"Author : {self.book.author}\")\n",
    "        print(f\"Quantity : {self.quantity}\")\n",
    "        print(f\"Discount : {self.discount}\")\n",
    "        print(f\"Total : ${total}\")\n",
    "    \n",
    "    def save_to_db(self):\n",
    "        print(f\"save to database for {self.book.title}\")\n",
    "\n",
    "book = Book(\"A\" , \"Author\" , 199)\n",
    "invoice = Invoice(book , 5 , 100)\n",
    "print(invoice.print_invoice())\n"
   ]
  },
  {
   "cell_type": "code",
   "execution_count": 3,
   "metadata": {},
   "outputs": [
    {
     "data": {
      "text/plain": [
       "'Saved the invoice to the database'"
      ]
     },
     "execution_count": 3,
     "metadata": {},
     "output_type": "execute_result"
    }
   ],
   "source": [
    "#Design with SRP \n",
    "\n",
    "class Book:\n",
    "    def __init__(self, title , author , price) -> None:\n",
    "        self.title = title\n",
    "        self.author = author\n",
    "        self.price = price\n",
    "\n",
    "class Invoice:\n",
    "    def __init__(self , book , quantity , discount) -> None:\n",
    "        self.book = book\n",
    "        self.quantity = quantity\n",
    "        self.discount = discount\n",
    "        \n",
    "\n",
    "class InvoicePrinter:\n",
    "    def __init__(self , invoice) -> None:\n",
    "        self.invoice = invoice\n",
    "    \n",
    "    def print_invoice(self):\n",
    "        total = self.calculate_total()\n",
    "        print(f\"Book : {self.book.title}\")\n",
    "        print(f\"Author : {self.book.author}\")\n",
    "        print(f\"Quantity : {self.quantity}\")\n",
    "        print(f\"Discount : {self.discount}\")\n",
    "        print(f\"Total : ${total}\")\n",
    "class InvoiceStorage:\n",
    "    def __init__(self, invoice) -> None:\n",
    "        self.invoice = invoice\n",
    "    \n",
    "    def save_to_database(self):\n",
    "        return f\"Saved the invoice to the database\"\n",
    "    \n",
    "book = Book(\"The Pragmatic Progrommar\" , \"Andy Hund and Dave Thomas\" , 30.00)\n",
    "invoice = Invoice(book , 3 , 5.00)\n",
    "invoice_printer = InvoicePrinter(invoice)\n",
    "invoice_storage = InvoiceStorage(invoice)\n",
    "invoice_storage.save_to_database()"
   ]
  },
  {
   "cell_type": "markdown",
   "metadata": {},
   "source": [
    "#### Voilation \n",
    "**Without SRP**\n",
    "- Invoice class is aboit invoices , but we have added print and storage functionality inside it. This break SRP rule, \"A class should have only one reason to change\".\n",
    "- If we want to change logic of storage or print we will have to change the functionlity of the class.\n",
    "\n",
    "- **In case of SRP design each class performs its own functionlity**\n",
    "\n",
    "\n",
    "When a class performs one task, it contains a small number of methods and member variables that are self-explanatory. SRP achieves this goal, and due to this, our classes are more usable, and they provide easier maintenance."
   ]
  },
  {
   "cell_type": "code",
   "execution_count": null,
   "metadata": {},
   "outputs": [],
   "source": []
  }
 ],
 "metadata": {
  "kernelspec": {
   "display_name": "Python 3",
   "language": "python",
   "name": "python3"
  },
  "language_info": {
   "codemirror_mode": {
    "name": "ipython",
    "version": 3
   },
   "file_extension": ".py",
   "mimetype": "text/x-python",
   "name": "python",
   "nbconvert_exporter": "python",
   "pygments_lexer": "ipython3",
   "version": "3.11.3"
  }
 },
 "nbformat": 4,
 "nbformat_minor": 2
}
