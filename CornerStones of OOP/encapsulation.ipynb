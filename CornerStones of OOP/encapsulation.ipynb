{
 "cells": [
  {
   "cell_type": "code",
   "execution_count": null,
   "metadata": {},
   "outputs": [],
   "source": []
  },
  {
   "cell_type": "markdown",
   "metadata": {},
   "source": [
    "#### Encapsulation \n",
    "\n",
    "fundamental programming technique used to achieve data hiding in OOP. \n",
    "Done to hide the sate and representation of an object from teh outside. A class can be though of as capule with methods and attributs inside it.\n"
   ]
  },
  {
   "cell_type": "markdown",
   "metadata": {},
   "source": [
    "class Movie:"
   ]
  },
  {
   "cell_type": "code",
   "execution_count": 1,
   "metadata": {},
   "outputs": [
    {
     "name": "stdout",
     "output_type": "stream",
     "text": [
      "hello\n"
     ]
    }
   ],
   "source": [
    "class Movie:\n",
    "\n",
    "    def __init__(self, title=None, year=None, genre=None) -> None:\n",
    "        self.__title = title\n",
    "        self.__year = year\n",
    "        self.__genre = genre\n",
    "    \n",
    "    def get_title(self):\n",
    "        return self.__title\n",
    "    def set_title(self,value):\n",
    "        self.__title = value\n",
    "    def get_year(self):\n",
    "        return self.__year\n",
    "    def set_year(self , value):\n",
    "        self.__year = value\n",
    "    def get_genre(self):\n",
    "        return self.__genre\n",
    "    def set_genre(self, value):\n",
    "        self.__genre = value\n",
    "    def print_details(self):\n",
    "        print(\"Title : \", self.get_title())\n",
    "        print(\"year : \",self.get_year())\n",
    "        print(\"Genre :\" , self.get_genre())\n",
    "\n",
    "\n",
    "def main():\n",
    "    movie = Movie(\"the lion king \", 1994 ,  \"Adventure\")\n",
    "    movie.print_detrai"
   ]
  },
  {
   "cell_type": "code",
   "execution_count": null,
   "metadata": {},
   "outputs": [],
   "source": []
  }
 ],
 "metadata": {
  "kernelspec": {
   "display_name": "Python 3",
   "language": "python",
   "name": "python3"
  },
  "language_info": {
   "codemirror_mode": {
    "name": "ipython",
    "version": 3
   },
   "file_extension": ".py",
   "mimetype": "text/x-python",
   "name": "python",
   "nbconvert_exporter": "python",
   "pygments_lexer": "ipython3",
   "version": "3.11.3"
  }
 },
 "nbformat": 4,
 "nbformat_minor": 2
}
