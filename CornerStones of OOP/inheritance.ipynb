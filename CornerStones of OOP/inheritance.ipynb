{
 "cells": [
  {
   "cell_type": "code",
   "execution_count": null,
   "metadata": {},
   "outputs": [],
   "source": []
  },
  {
   "cell_type": "markdown",
   "metadata": {},
   "source": [
    "### **Inheritance**"
   ]
  },
  {
   "cell_type": "markdown",
   "metadata": {},
   "source": [
    "its a way to create new class from an exisiting class. The new class inherites the public attribues and methods from the exisiting class having the its own specialized methods and attributes"
   ]
  },
  {
   "cell_type": "markdown",
   "metadata": {},
   "source": [
    "#### **Implementation**"
   ]
  },
  {
   "cell_type": "code",
   "execution_count": 1,
   "metadata": {},
   "outputs": [
    {
     "name": "stdout",
     "output_type": "stream",
     "text": [
      "Single inheritance:\n",
      "The car is a Honda Accord, combust type is Petrol\n",
      "\n",
      "Hierarchical inheritance:\n",
      "The car is a Tesla ModelX, battery power is 200MWH\n",
      "\n",
      "Multi-Level inheritance:\n",
      "The car is a Toyota Corolla, combust type is Gasoline, gas capacity is 30 liters\n",
      "\n",
      "\n",
      "Multiple inheritance:\n",
      "The car is a Toyota Prius, combust type is Hybrid, battery power is 100MWH\n"
     ]
    }
   ],
   "source": [
    "# Base class (Parent)\n",
    "class Vehicle():\n",
    "    def __init__(self, name, model):\n",
    "        self.name = name\n",
    "        self.model = model\n",
    "\n",
    "    def get_name(self):\n",
    "        print(\"The car is a\", self.name, self.model, end=\"\")\n",
    "\n",
    "# Single inheritance\n",
    "# FuelCar class extending from Vehicle class\n",
    "# Derived class (Child)\n",
    "class FuelCar(Vehicle):\n",
    "    def __init__(self, name, model, combust_type):\n",
    "        self.combust_type = combust_type\n",
    "        Vehicle.__init__( self,name, model)\n",
    "\n",
    "    def get_fuel_car(self):\n",
    "        super().get_name()\n",
    "        print(\", combust type is\", self.combust_type, end=\"\")\n",
    "\n",
    "# Hierarchical inheritance\n",
    "# Alongside the FuelCar class, the ElectricCar class is also extending from Vehicle class\n",
    "# Another Derived class (Child)\n",
    "class ElectricCar(Vehicle):\n",
    "    def __init__(self, name, model, battery_power):\n",
    "        self.battery_power = battery_power\n",
    "        Vehicle.__init__(self, name, model)\n",
    "\n",
    "    def get_electric_car(self):\n",
    "        super().get_name()\n",
    "        print(\", battery power is\", self.battery_power, end=\"\")\n",
    "\n",
    "# Multi-level inheritance\n",
    "# GasolineCar class is derived from the FuelCar class, which is further derived from the Vehicle class\n",
    "# Derived class (Grandchild)\n",
    "class GasolineCar(FuelCar):\n",
    "    def __init__(self, name, model, combust_type, gas_capacity):\n",
    "            self.gas_capacity = gas_capacity\n",
    "            FuelCar.__init__(self, name, model, combust_type)\n",
    "    \n",
    "    def get_gasoline_car(self):\n",
    "        super().get_fuel_car()\n",
    "        print(\", gas capacity is\",self.gas_capacity)\n",
    "\n",
    "# Multiple inheritance\n",
    "# The HybridCar class is derived from two different classes, The GasolineCar class and the ElectricCar class \n",
    "# Derived class\n",
    "class HybridCar(GasolineCar, ElectricCar):\n",
    "\n",
    "    def __init__(self, name, model, combust_type, battery_power):\n",
    "        FuelCar.__init__(self, name, model, combust_type)\n",
    "        ElectricCar.__init__(self,name, model, battery_power)\n",
    "        self.battery_power = battery_power\n",
    "\n",
    "    def get_hybrid(self):\n",
    "        self.get_fuel_car()\n",
    "        print(\", battery power is\",self.battery_power)\n",
    "     \n",
    "# main\n",
    "def main():\n",
    "    print(\"Single inheritance:\")\n",
    "    Fuel = FuelCar(\"Honda\", \"Accord\", \"Petrol\")\n",
    "    Fuel.get_fuel_car()\n",
    "    print(\"\\n\")\n",
    "\n",
    "    print(\"Hierarchical inheritance:\")\n",
    "    Electric = ElectricCar(\"Tesla\", \"ModelX\", \"200MWH\")\n",
    "    Electric.get_electric_car()\n",
    "    print(\"\\n\")\n",
    "\n",
    "    print(\"Multi-Level inheritance:\")\n",
    "    Gasoline = GasolineCar(\"Toyota\", \"Corolla\", \"Gasoline\", \"30 liters\")\n",
    "    Gasoline.get_gasoline_car()\n",
    "    print(\"\\n\")\n",
    "\n",
    "    print(\"Multiple inheritance:\")\n",
    "    Hybrid = HybridCar(\"Toyota\", \"Prius\", \"Hybrid\", \"100MWH\")\n",
    "    Hybrid.get_hybrid()\n",
    "main()"
   ]
  },
  {
   "cell_type": "markdown",
   "metadata": {},
   "source": []
  },
  {
   "cell_type": "markdown",
   "metadata": {},
   "source": []
  }
 ],
 "metadata": {
  "kernelspec": {
   "display_name": "Python 3",
   "language": "python",
   "name": "python3"
  },
  "language_info": {
   "codemirror_mode": {
    "name": "ipython",
    "version": 3
   },
   "file_extension": ".py",
   "mimetype": "text/x-python",
   "name": "python",
   "nbconvert_exporter": "python",
   "pygments_lexer": "ipython3",
   "version": "3.11.3"
  }
 },
 "nbformat": 4,
 "nbformat_minor": 2
}
